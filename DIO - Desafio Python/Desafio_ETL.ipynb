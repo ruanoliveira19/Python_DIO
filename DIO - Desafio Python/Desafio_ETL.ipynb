{
  "nbformat": 4,
  "nbformat_minor": 0,
  "metadata": {
    "colab": {
      "provenance": []
    },
    "kernelspec": {
      "name": "python3",
      "display_name": "Python 3"
    },
    "language_info": {
      "name": "python"
    }
  },
  "cells": [
    {
      "cell_type": "code",
      "execution_count": 36,
      "metadata": {
        "id": "bsOnQJgrkv8M"
      },
      "outputs": [],
      "source": [
        "import pandas as pd"
      ]
    },
    {
      "cell_type": "code",
      "source": [
        "#Etapa de Extração\n",
        "\n",
        "df = pd.read_excel('coffee_bean_sales.xlsx')"
      ],
      "metadata": {
        "id": "DnuV6Wcpk1yr"
      },
      "execution_count": 49,
      "outputs": []
    },
    {
      "cell_type": "code",
      "source": [
        "#Etapa de Transformação\n",
        "\n",
        "#rename columns\n",
        "df.rename(columns = {'Customer Name' : 'Name'})\n",
        "\n",
        "\n",
        "#convert datatype\n",
        "df.replace(('Yes', 'No'), (1,0), inplace=True)"
      ],
      "metadata": {
        "id": "fBaiusnEtQDs"
      },
      "execution_count": 32,
      "outputs": []
    },
    {
      "cell_type": "code",
      "source": [
        "#Etapa de Carregamento\n",
        "\n",
        "df.to_csv('dados_tranformados.csv', index=False)"
      ],
      "metadata": {
        "id": "n4heShFyk2Jk"
      },
      "execution_count": 54,
      "outputs": []
    }
  ]
}